{
 "cells": [
  {
   "cell_type": "markdown",
   "metadata": {},
   "source": [
    "# Stochastic programming -- Approximation and Sampling Method"
   ]
  },
  {
   "cell_type": "markdown",
   "metadata": {},
   "source": [
    "# 1. Introduction\n",
    "\n",
    "How can we solve an optimization problem of the form\n",
    "\\begin{align}\n",
    "\\underset{x \\in X}{\\text{minimize}}& \\; f(x) \n",
    "\\end{align}\n",
    "\n",
    "where $X \\subset \\mathbb{R}^{d}$ and the real-valued function $f(·)$ cannot be computed exactly, but can be\n",
    "estimated through a simulation? One of approximation and sampling methods in stochastic programming is call Sample Average Approximation (SAA). The principle of SAA allows one to tackle such problems through the use of sampling and optimization methods for deterministic problems. "
   ]
  },
  {
   "cell_type": "markdown",
   "metadata": {},
   "source": [
    "# 2. Sampling Average Approximation (SAA) \n",
    "\n",
    "Let $\\xi$ be a random vector with probability $\\mathbb{P}$, $X \\subset \\mathbb{R}^{d}$ and let $\\{\\xi^{i}\\}_{i=1}^{N}$  iid samples of $\\xi$ and $\\mathbb{P}_{N}(\\xi=\\xi^{i})=\\frac{1}{N}$ .\n",
    "\n",
    "\n",
    "## 2.1 Original problem:\n",
    "\n",
    "\\begin{align}\n",
    "(P) \\;\n",
    "\\underset{x \\in X}{\\text{minimize}}& \\; f(x) = \\mathbb{E}[F(x, \\xi)]\\nonumber\n",
    "\\end{align}\n",
    "\n",
    "$F(x, \\xi)$ is the solution to original optimization problem. If the parameters with stochastic component had a discrete distribution, $\\mathbb{E}[F(x, \\xi)]$ has a closed form. However, if $\\mathbb{E}[F(x, \\xi)]$ cannot be computed since the integral of the expectation becomes computationally intractable, therefore it must be approximated through monte carlo, that is, through sampling.\n",
    "\n",
    "\n",
    "## 2.2. Approximate problem:\n",
    "\n",
    "\\begin{align}\n",
    "(\\hat{P}_{N}) \\;\n",
    "\\underset{x \\in X}{\\text{minimize}}& \\; \\hat{f}_{N}(x) = \\mathbb{E}_{P_{N}}[F(x, \\xi)]=\\frac{1}{N}\\sum_{i=1}^{N}F(x, \\xi^{i})\\nonumber\n",
    "\\end{align}\n",
    "\n",
    "Let $\\delta$ be the optimal value of the original problem and  $S$  be the set of optimal solutions. On the other hand, $\\hat{\\delta}_{N}$  and $\\hat{S}_{N}$ be the optimal value and the set of optimal solutions of the approximate problem, respectively.\n",
    "\n",
    "\n",
    "\n",
    "## 2.3. Upper and lower bound\n",
    "\n",
    "There are upper and lower bound for the objective value of the original problem:\n",
    "\n",
    "\\begin{equation*}\n",
    "\\forall N \\in \\mathbb{N}, \\; \\mathbb{E}[\\hat{\\delta}_{N}]\\leq\\delta\\leq\\mathbb{E}[F(x,\\xi)], \\; \\forall x \\in X\n",
    "\\end{equation*}\n",
    "\n",
    "How do we estimate the bounds?\n",
    "\n",
    "### 2.3.1 Lower bound\n",
    "\n",
    "Fix $N$ and solve $n_{1}$ problems with $n_{1}<N$, then we obtain the optimal set of values $\\{ \\hat{\\delta}_{N,i} \\}_{i=1}^{n_{1}}$ and $\\{ \\hat{x}_{N,i} \\}_{i=1}^{n_{1}}$ optimal solutions of the approximate problem. Let $\\bar{\\delta}_{N, n_{1}}=\\frac{1}{n_{1}}\\sum_{i=1}^{n_{1}}\\hat{\\delta}_{N,i}$ the average of the lower bound and  $s_{N, n_{1}}^{2}=\\frac{1}{n_{1}(n_{1}-1)}\\sum_{i=1}^{n_{1}}(\\hat{\\delta}_{N,i}-\\bar{\\delta}_{N, n_{1}})^{2}$ the standard deviation of the lower bound. By central limit theorem we have:\n",
    "\n",
    "\n",
    "\\begin{equation*}\n",
    "\\mathbb{P}(LB=\\bar{\\delta}_{N, n_{1}}-z_{\\alpha}s_{N, n_{1}}\\leq \\delta)\\geq 1-\\alpha\n",
    "\\end{equation*}\n",
    "\n",
    "Where $z_{\\alpha}$ is the value associated with a standard normal distribution\n",
    "with an accumulated probability$1-\\alpha$, that is,  $\\Phi^{-1}(1-\\alpha)=z_{\\alpha}$. Note that if $\\alpha$ is small $z_{\\alpha}$  grows and therefore the lower bound of the probability is greater.\n",
    "\n",
    "\n",
    "\n",
    "### 2.3.2 Upper bound\n",
    "\n",
    "Choose $n_{2}$, let $\\hat{f}_{n_{2}}(x) = \\frac{1}{n_{2}}\\sum_{j=1}^{n_{2}}F(x, \\xi^{j})$ and $s_{n_{2}}^{2}(x)=\\frac{1}{n_{2}(n_{2}-1)}\\sum_{j=1}^{n_{2}}(F(x, \\xi^{j})-\\hat{f}_{n_{2}})^{2}$ the average and standard deviation of the upper dimensions given a $x$. By central limit theorem we have:\n",
    "\n",
    "\n",
    "    \n",
    "\\begin{equation*}\n",
    "\\mathbb{P}(\\hat{f}_{n_{2}}(x)+z_{\\alpha}s_{n_{2}}(x)\\geq \\delta)\\geq 1- \\alpha, \\; \\forall x \\in X\n",
    "\\end{equation*}\n",
    "    \n",
    "Let $\\mu_{i} = \\hat{f}_{n_{2}}(\\hat{x}_{N,i})+z_{\\alpha}s_{n_{2}}(\\hat{x}_{N,i})$ must be:  \n",
    "    \n",
    "\\begin{align}\n",
    "\\mathbb{P}\\big( \\;\n",
    "UB=\\underset{i =1, \\ldots n_{1}}{\\text{min}}& \\mu_{i} \\geq \\delta\\big)\\geq 1- \\alpha \\nonumber\n",
    "\\end{align}\n",
    "\n"
   ]
  },
  {
   "cell_type": "markdown",
   "metadata": {},
   "source": [
    "# 2. Example stochastic linear programming problem\n",
    "\n",
    "\n",
    "## 2.1 Problem\n",
    "\n",
    "\\begin{align}\n",
    "\\nonumber\n",
    "F(y, \\xi) = \\underset{x}{\\text{min}}\\quad& \\;   2x_{1}+3x_{2}x_{d}+ E[7y_{1}(\\xi) + 12y_{2}(\\xi)]\\\\ \\nonumber\n",
    "\\textrm{s.t.}\\quad & \\;  x_{1} + x_{2} \\leq 100\\\\ \\nonumber\n",
    "& \\; (2+{\\xi}_{1}) x_{1} + 6x_{2} + y_{1}({\\xi})  \\geq 180 + {\\xi}_{2} \\\\ \\nonumber\n",
    "& \\; 3x_{1} + (3.4 - {\\xi}_{3}) x_{2}  + y_{2}({\\xi})  \\geq 162 + {\\xi}_{4} \\\\ \\nonumber\n",
    "& \\; x_{1}, x_{2} \\geq 0  \\\\ \\nonumber\n",
    "& \\; y_{1}({\\xi}), y_{2}({\\xi}) \\geq 0 \\\\ \\nonumber\n",
    "\\end{align}\n",
    "\n",
    "\n",
    "\n",
    "where  ${\\xi} = ( {\\xi}_{1},\\, {\\xi}_{2},\\, {\\xi}_{3},\\, {\\xi}_{4}\\,)$. Suppose ${\\xi}_{1},\\, {\\xi}_{2},\\, {\\xi}_{3},\\, {\\xi}_{4}\\,$ are independent random variables, and \n",
    "- ${\\xi}_{1} \\sim U(-0.8,0.8)$ \n",
    "- ${\\xi}_{2} \\sim N(0,12)$ \n",
    "- ${\\xi}_{3} \\sim exp(2.5)$ \n",
    "- ${\\xi}_{4} \\sim N(0,9)$ "
   ]
  },
  {
   "cell_type": "markdown",
   "metadata": {},
   "source": [
    "# 3. Code implementation\n",
    "\n",
    "The code is written in gurobi for the optimization."
   ]
  },
  {
   "cell_type": "code",
   "execution_count": null,
   "metadata": {},
   "outputs": [],
   "source": [
    "import numpy as np\n",
    "import gurobipy as grb\n",
    "import scipy.stats as stat\n",
    "from tqdm.notebook import trange\n",
    "import matplotlib.pyplot as plt\n",
    "plt.style.use('seaborn')"
   ]
  },
  {
   "cell_type": "code",
   "execution_count": 2,
   "metadata": {},
   "outputs": [],
   "source": [
    "N_seq = [10, 20, 50, 100, 200, 500, 1000]; # number of samples\n",
    "# N_seq = [10 50 100 200 500 1000]; # numb of samples\n",
    "M = 10; # numb of replication\n",
    "Nprim = 100000;\n",
    "alpha = 0.05;\n",
    "\n",
    "LB_seq = np.zeros(len(N_seq));\n",
    "LB_me_seq = np.zeros(len(N_seq)); \n",
    "LB_ci_up_seq = np.zeros(len(N_seq));\n",
    "LB_ci_low_seq = np.zeros(len(N_seq));\n",
    "LB_ci= np.zeros(len(N_seq));\n",
    "\n",
    "UB_seq = np.zeros(len(N_seq));\n",
    "UB_me_seq = np.zeros(len(N_seq));\n",
    "UB_ci_up_seq = np.zeros(len(N_seq));\n",
    "UB_ci_low_seq = np.zeros(len(N_seq));\n",
    "UB_ci= np.zeros(len(N_seq));\n",
    "\n",
    "x_id = [1,2]\n",
    "y_id = [1,2]"
   ]
  },
  {
   "cell_type": "code",
   "execution_count": 5,
   "metadata": {},
   "outputs": [
    {
     "name": "stdout",
     "output_type": "stream",
     "text": [
      "######################## Sample size ( 10 ) ########################\n"
     ]
    },
    {
     "data": {
      "application/vnd.jupyter.widget-view+json": {
       "model_id": "b703eb17aef04c2caa7082af63920852",
       "version_major": 2,
       "version_minor": 0
      },
      "text/plain": [
       "HBox(children=(FloatProgress(value=0.0, max=10.0), HTML(value='')))"
      ]
     },
     "metadata": {},
     "output_type": "display_data"
    },
    {
     "name": "stdout",
     "output_type": "stream",
     "text": [
      "\n",
      "Lower Bound =  177.92681157055395\n",
      "Lower Bound Variance =  144.3910428061339\n",
      "CI of Lower Bound = [ 173.97380643170504  ,  181.87981670940286 ]\n",
      "Upper Bound =  265.1732312455225\n",
      "Upper Bound Variance =  1962.8957569179672\n",
      "CI of Upper Bound= [ 250.59832161808254  ,  279.7481408729625 ]\n",
      "######################## Sample size ( 20 ) ########################\n"
     ]
    },
    {
     "data": {
      "application/vnd.jupyter.widget-view+json": {
       "model_id": "d10417d193dc44bd9bdcd720d7b38e81",
       "version_major": 2,
       "version_minor": 0
      },
      "text/plain": [
       "HBox(children=(FloatProgress(value=0.0, max=10.0), HTML(value='')))"
      ]
     },
     "metadata": {},
     "output_type": "display_data"
    },
    {
     "name": "stdout",
     "output_type": "stream",
     "text": [
      "\n",
      "Lower Bound =  193.09947004084884\n",
      "Lower Bound Variance =  167.32367499794015\n",
      "CI of Lower Bound = [ 188.8441135405971  ,  197.35482654110058 ]\n",
      "Upper Bound =  223.3230039874004\n",
      "Upper Bound Variance =  121.63937165535748\n",
      "CI of Upper Bound= [ 219.69477794294048  ,  226.95123003186032 ]\n",
      "######################## Sample size ( 50 ) ########################\n"
     ]
    },
    {
     "data": {
      "application/vnd.jupyter.widget-view+json": {
       "model_id": "056ed0028ad6471caed44f98bdcde3fe",
       "version_major": 2,
       "version_minor": 0
      },
      "text/plain": [
       "HBox(children=(FloatProgress(value=0.0, max=10.0), HTML(value='')))"
      ]
     },
     "metadata": {},
     "output_type": "display_data"
    },
    {
     "name": "stdout",
     "output_type": "stream",
     "text": [
      "\n",
      "Lower Bound =  197.79838980457242\n",
      "Lower Bound Variance =  137.13755557959388\n",
      "CI of Lower Bound = [ 193.94595361011565  ,  201.6508259990292 ]\n",
      "Upper Bound =  217.37405882345396\n",
      "Upper Bound Variance =  47.712577111621016\n",
      "CI of Upper Bound= [ 215.10171685374632  ,  219.6464007931616 ]\n",
      "######################## Sample size ( 100 ) ########################\n"
     ]
    },
    {
     "data": {
      "application/vnd.jupyter.widget-view+json": {
       "model_id": "f847c6d8fa604d8fa786fccbeea1100d",
       "version_major": 2,
       "version_minor": 0
      },
      "text/plain": [
       "HBox(children=(FloatProgress(value=0.0, max=10.0), HTML(value='')))"
      ]
     },
     "metadata": {},
     "output_type": "display_data"
    },
    {
     "name": "stdout",
     "output_type": "stream",
     "text": [
      "\n",
      "Lower Bound =  206.9907173296251\n",
      "Lower Bound Variance =  36.30220429409928\n",
      "CI of Lower Bound = [ 205.00862559413824  ,  208.972809065112 ]\n",
      "Upper Bound =  213.02948571789116\n",
      "Upper Bound Variance =  8.642565203398716\n",
      "CI of Upper Bound= [ 212.0623696811583  ,  213.99660175462404 ]\n",
      "######################## Sample size ( 200 ) ########################\n"
     ]
    },
    {
     "data": {
      "application/vnd.jupyter.widget-view+json": {
       "model_id": "ae40907167eb4898a97117fb1d994c35",
       "version_major": 2,
       "version_minor": 0
      },
      "text/plain": [
       "HBox(children=(FloatProgress(value=0.0, max=10.0), HTML(value='')))"
      ]
     },
     "metadata": {},
     "output_type": "display_data"
    },
    {
     "name": "stdout",
     "output_type": "stream",
     "text": [
      "\n",
      "Lower Bound =  212.7130889647412\n",
      "Lower Bound Variance =  22.279175090185564\n",
      "CI of Lower Bound = [ 211.1603201303309  ,  214.2658577991515 ]\n",
      "Upper Bound =  211.7381019442124\n",
      "Upper Bound Variance =  1.1639224975754479\n",
      "CI of Upper Bound= [ 211.38319108811527  ,  212.0930128003095 ]\n",
      "######################## Sample size ( 500 ) ########################\n"
     ]
    },
    {
     "data": {
      "application/vnd.jupyter.widget-view+json": {
       "model_id": "ceec91cef77848e68e35f01b0b814c8f",
       "version_major": 2,
       "version_minor": 0
      },
      "text/plain": [
       "HBox(children=(FloatProgress(value=0.0, max=10.0), HTML(value='')))"
      ]
     },
     "metadata": {},
     "output_type": "display_data"
    },
    {
     "name": "stdout",
     "output_type": "stream",
     "text": [
      "\n",
      "Lower Bound =  212.63378135861316\n",
      "Lower Bound Variance =  8.16200625777129\n",
      "CI of Lower Bound = [ 211.69393748640888  ,  213.57362523081744 ]\n",
      "Upper Bound =  210.81507287434505\n",
      "Upper Bound Variance =  0.16658640046860365\n",
      "CI of Upper Bound= [ 210.68080348165572  ,  210.94934226703438 ]\n",
      "######################## Sample size ( 1000 ) ########################\n"
     ]
    },
    {
     "data": {
      "application/vnd.jupyter.widget-view+json": {
       "model_id": "a47b219cdeb74c179ce24dee1e93e44d",
       "version_major": 2,
       "version_minor": 0
      },
      "text/plain": [
       "HBox(children=(FloatProgress(value=0.0, max=10.0), HTML(value='')))"
      ]
     },
     "metadata": {},
     "output_type": "display_data"
    },
    {
     "name": "stdout",
     "output_type": "stream",
     "text": [
      "\n",
      "Lower Bound =  209.05009727826186\n",
      "Lower Bound Variance =  3.8416401470262693\n",
      "CI of Lower Bound = [ 208.40531128732295  ,  209.69488326920077 ]\n",
      "Upper Bound =  210.69477169809716\n",
      "Upper Bound Variance =  0.06682670685730016\n",
      "CI of Upper Bound= [ 210.6097299297015  ,  210.7798134664928 ]\n"
     ]
    }
   ],
   "source": [
    "for s in range(len(N_seq)):\n",
    "    N = N_seq[s];\n",
    "    print(\"######################## Sample size (\", N, \") ########################\");\n",
    "    LB_obj = np.zeros(M);\n",
    "    UB_obj = np.zeros(M);\n",
    "    \n",
    "    # M replication experiments\n",
    "    for rep_m in trange(M):\n",
    "        # lower bound ###############################################################################\n",
    "        # N independent parameter samples\n",
    "        e1 = np.random.uniform(-0.8,0.8,N) ;\n",
    "        e2 = np.random.normal(0, 12, N);\n",
    "        e3 = np.random.exponential(scale=2.5, size = N);\n",
    "        e4 = np.random.normal(0, 9, N);\n",
    "        \n",
    "        LB_exp = 0; # each replication\n",
    "        \n",
    "        # model\n",
    "        LB_model = grb.Model('SAA_LB');\n",
    "        LB_model.setParam('OutputFlag', 0)\n",
    "        \n",
    "        # variables\n",
    "        x = {}\n",
    "        for k in x_id:\n",
    "            x[k] = LB_model.addVar(lb=0,name=\"x(%s)\" % (k))\n",
    "        y = {}\n",
    "        for k in y_id:\n",
    "            for j in range(N):\n",
    "                y[k,j] = LB_model.addVar(lb=0,name=\"y(%s_%s)\" % (k,j))\n",
    "        LB_model.update()\n",
    "\n",
    "        # Define Objective\n",
    "        LB_model.setObjective( ( 2*x[1]+3*x[2]+ grb.quicksum(7*y[1,k]+12*y[2,k]  for k in range(N) )*1.0/N ),grb.GRB.MINIMIZE)\n",
    "        \n",
    "        \n",
    "        # Constraints\n",
    "        LB_model.addConstr(x[1]+x[2] <= 100 , name=\"constr1\")\n",
    "        for k in range(N):\n",
    "            LB_model.addConstr( y[1,k] >= 180 + e2[k] - 6*x[2] - (2 + e1[k]) * x[1], name=\"constr2(%s)\"%(k) )\n",
    "            LB_model.addConstr( y[2,k] >= 162 + e4[k] - 3*x[1] - (3.4 - e3[k]) * x[2], name=\"constr3(%s)\"%(k) )\n",
    "\n",
    "        LB_model.optimize()\n",
    "        xval ={}\n",
    "        for i,xv in enumerate(x_id):\n",
    "            xval[xv] = LB_model.getAttr('x', x).values()[i];\n",
    "        LB_exp = LB_model.objVal;\n",
    "        LB_obj[rep_m] = LB_exp;\n",
    "\n",
    "        # Upper bound #######################################################################\n",
    "        # Nprim independent parameter samples\n",
    "        s1 = np.random.uniform(-0.8,0.8,Nprim) ;\n",
    "        s2 = np.random.normal(0, 12, Nprim);\n",
    "        s3 = np.random.exponential(scale=2.5, size = Nprim);\n",
    "        s4 = np.random.normal(0, 9, Nprim);\n",
    "        UB_exp = 0;       \n",
    "        \n",
    "        # model\n",
    "        UB_model = grb.Model('SAA_UB');\n",
    "        UB_model.setParam('OutputFlag', 0)\n",
    "        \n",
    "        # variables\n",
    "        y = {}\n",
    "        for k in y_id:\n",
    "            for j in range(Nprim):\n",
    "                y[k,j] = UB_model.addVar(lb=0,name=\"y(%s_%s)\" % (k,j))\n",
    "        UB_model.update()\n",
    "\n",
    "        # Define Objective\n",
    "        UB_model.setObjective( ( 2*xval[1]+3*xval[2]+ grb.quicksum(7*y[1,kk]+12*y[2,kk]  for kk in range(Nprim) )*1.0/Nprim ), grb.GRB.MINIMIZE)\n",
    "        \n",
    "        \n",
    "        # Constraints\n",
    "        for kk in range(Nprim):\n",
    "            UB_model.addConstr( y[1,kk] >= 180 + s2[kk] - 6*xval[2] - (2 + s1[kk]) * xval[1], name=\"constr2(%s)\"%(kk) )\n",
    "            UB_model.addConstr( y[2,kk] >= 162 + s4[kk] - 3*xval[1] - (3.4 - s3[kk]) * xval[2], name=\"constr3(%s)\"%(kk) )\n",
    "\n",
    "        UB_model.optimize()\n",
    "        UB_exp = UB_model.objVal;\n",
    "        UB_obj[rep_m] = UB_exp;\n",
    "        \n",
    "    LB_seq[s] = sum(LB_obj)*1.0/M;\n",
    "    print(\"Lower Bound = \", LB_seq[s]);\n",
    "    LB_var = sum([np.square(LB_obj[k]-LB_seq[s]) for k in range(M)]) *1.0/(M-1);\n",
    "    print(\"Lower Bound Variance = \", LB_var);\n",
    "    # marginal error\n",
    "    LB_me = (stat.norm.ppf(1-alpha)*np.power(LB_var,1/2))*1.0/(np.power(M,1)/2);\n",
    "    LB_ci[s] = LB_me\n",
    "    LB_ci_up_seq[s]  = LB_seq[s] + LB_me;\n",
    "    LB_ci_low_seq[s] = LB_seq[s] - LB_me;\n",
    "    print(\"CI of Lower Bound = [\", LB_ci_low_seq[s],\" , \", LB_ci_up_seq[s],\"]\");\n",
    "\n",
    "    ######################## UB confidence interval calculation ########################\n",
    "    UB_seq[s] = sum(UB_obj)*1.0/M;\n",
    "    print(\"Upper Bound = \", UB_seq[s]);\n",
    "    UB_var = sum([np.square(UB_obj[k]-UB_seq[s]) for k in range(M)]) *1.0/(M-1);\n",
    "    print(\"Upper Bound Variance = \", UB_var);\n",
    "    # marginal error\n",
    "    UB_me = (stat.norm.ppf(1-alpha)*np.power(UB_var,1/2))*1.0/(np.power(M,1)/2);\n",
    "    UB_ci[s] = UB_me\n",
    "    UB_ci_up_seq[s]  = UB_seq[s] + UB_me;\n",
    "    UB_ci_low_seq[s] = UB_seq[s] - UB_me;\n",
    "    print(\"CI of Upper Bound= [\", UB_ci_low_seq[s],\" , \", UB_ci_up_seq[s],\"]\");\n"
   ]
  },
  {
   "cell_type": "code",
   "execution_count": 25,
   "metadata": {},
   "outputs": [
    {
     "data": {
      "image/png": "[encoded data removed]",
      "text/plain": [
       "<Figure size 720x576 with 1 Axes>"
      ]
     },
     "metadata": {},
     "output_type": "display_data"
    }
   ],
   "source": [
    "fig =  plt.figure(figsize=(10, 8))\n",
    "ax = fig.add_subplot(111)\n",
    "ax.set_xlabel('Samples', fontsize = 14)\n",
    "ax.set_ylabel('Y', fontsize = 14)\n",
    "ax.yaxis.set_tick_params(labelsize=14)\n",
    "ax.xaxis.set_tick_params(labelsize=14)\n",
    "# ax.axis([0, 5, 0, 35])\n",
    "linestyle = {\"linestyle\":\"--\", \"linewidth\":1.5, \"markeredgewidth\":1.5, \"elinewidth\":1.5, \"capsize\":4}\n",
    "ax.errorbar([str(N_seq[i]) for i in range(len(N_seq))], UB_seq, yerr = UB_ci, color=\"r\", **linestyle)\n",
    "ax.errorbar([str(N_seq[i]) for i in range(len(N_seq))], LB_seq, yerr = LB_ci, color=\"b\", **linestyle)\n",
    "ax.legend(['Upper bound CI','Lower bound CI'], fontsize  = 16)\n",
    "plt.show()"
   ]
  },
  {
   "cell_type": "markdown",
   "metadata": {},
   "source": [
    "From the experiment, we can found out that as the sample increases the confidence interval decreases and both the upper and lower bound are close to the optimal value.  "
   ]
  },
  {
   "cell_type": "markdown",
   "metadata": {},
   "source": [
    "# 4. Summary\n",
    "\n",
    "SAA has the advantage that we only need to estimate the probability distributions of the individual parameters. The problem are then approximated by random sampling from the parameter distributions and are assumed to be equally likely. After a large number of sampling we could approximate the underlying stochastic process. \n",
    "  \n",
    "We don't need to solve the whole problem  or consider all scenarios!\n",
    "- Using sampled approximations, you can quickly get good solutions (and bounds) to difficult stochastic programs\n",
    "- Owing to the random sampling, SAA cannot deal with the occurrence of rare events that have a very low probability well.\n"
   ]
  },
  {
   "cell_type": "markdown",
   "metadata": {},
   "source": [
    "# 5. Reference\n",
    "\n",
    "- Introduction to Stochastic Programming, Birge, J.R. and Louveaux, F. 2011.  Springer.\n",
    "- Lectures on Stochastic Programming: Modeling and Theory, Alexander Shapiro, Darinka Dentcheva, Andrzej Ruszczynski, SIAM.\n",
    "- https://github.com/limohaha/Stochastic-Optimization\n",
    "- A Guide to Sample-Average Approximation, Sujin Kim, 2011.\n",
    "- Sampling Methods for Stochastic Programming, Jeff Linderoth, http://homepages.cae.wisc.edu/~linderot/classes/ie495/lecture17.pdf\n",
    "- Supply Chain Engineering,  Marc Goetschalckx.  Springer.\n",
    "\n",
    "\n",
    "\n"
   ]
  }
 ],
 "metadata": {
  "kernelspec": {
   "display_name": "Python 3",
   "language": "python",
   "name": "python3"
  },
  "language_info": {
   "codemirror_mode": {
    "name": "ipython",
    "version": 3
   },
   "file_extension": ".py",
   "mimetype": "text/x-python",
   "name": "python",
   "nbconvert_exporter": "python",
   "pygments_lexer": "ipython3",
   "version": "3.7.4"
  }
 },
 "nbformat": 4,
 "nbformat_minor": 4
}
